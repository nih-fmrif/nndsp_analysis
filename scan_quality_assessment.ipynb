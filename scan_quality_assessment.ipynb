{
 "cells": [
  {
   "cell_type": "markdown",
   "metadata": {},
   "source": [
    "# Setup "
   ]
  },
  {
   "cell_type": "code",
   "execution_count": null,
   "metadata": {},
   "outputs": [],
   "source": [
    "from pathlib import Path\n",
    "import pandas as pd\n",
    "import numpy as np\n",
    "import subprocess\n",
    "from datetime import date\n",
    "import re\n",
    "pd.set_option('display.max_rows', 500)\n",
    "pd.set_option('display.max_columns', 500)\n",
    "pd.set_option('max_colwidth',500)\n",
    "%matplotlib inline\n",
    "import seaborn as sns\n",
    "import matplotlib.pyplot as plt\n",
    "from importlib import reload\n"
   ]
  },
  {
   "cell_type": "code",
   "execution_count": null,
   "metadata": {},
   "outputs": [],
   "source": [
    "# EDIT THESE VARIABLES\n",
    "analysis_version = \"2017_10_19\"\n",
    "project_dir = Path('/data/NNDSP') # needs to be pathlib.Path object\n",
    "# project_dir = Path('/Users/rodgersleejg/data/hpc/NNDSP') # needs to be pathlib.Path object"
   ]
  },
  {
   "cell_type": "code",
   "execution_count": null,
   "metadata": {},
   "outputs": [],
   "source": [
    "bids_dir = project_dir.joinpath('bids_2017_07_14')\n",
    "\n",
    "# conf_script = mriqc_dir.joinpath('conf' + analysis_version + '.sh')\n",
    "\n",
    "mriqc_dir  = project_dir.joinpath('anal/mriqc_files/other_files')\n",
    "if not mriqc_dir.exists():\n",
    "    mriqc_dir.mkdir()\n",
    "output_folder =  project_dir / 'derivatives' / 'mriqc'\n",
    "if not output_folder.exists():\n",
    "    output_folder.mkdir()\n",
    "classifier_output =  output_folder.joinpath('classifier')\n",
    "if not classifier_output.exists():\n",
    "    classifier_output.mkdir()\n",
    "base_work_dir = output_folder.joinpath('work')\n",
    "if not base_work_dir.exists():\n",
    "    base_work_dir.mkdir()\n",
    "log_dir = mriqc_dir.joinpath('swarm_output_' +  analysis_version)\n",
    "if not log_dir.exists():\n",
    "    log_dir.mkdir()\n",
    "manual_qc = output_folder.joinpath('manual_qc_metrics.csv')\n",
    "# swarm_path = mriqc_dir.joinpath('mriqc_' + analysis_version + '.cmd')\n",
    "\n",
    "df_qc_full_pkl = Path('anal/mriqc_files/other_files/qc_pickle_for_v2_exploration.pklz')\n",
    "mriqc_with_predictions = Path('derivatives/mriqc/with_mriqc_predictions.csv')\n",
    "plottable_data = Path('derivatives/mriqc/classifer_plot_data.pklz')\n",
    "plottable_data_euler = Path('derivatives/mriqc/classifer_plot_data_euler.pklz')"
   ]
  },
  {
   "cell_type": "code",
   "execution_count": null,
   "metadata": {},
   "outputs": [],
   "source": [
    "%pwd\n",
    "%cd {project_dir}\n",
    "%pwd"
   ]
  },
  {
   "cell_type": "code",
   "execution_count": null,
   "metadata": {},
   "outputs": [],
   "source": [
    "import anal.python_modules.inner_merge_and_report as pd_custom"
   ]
  },
  {
   "cell_type": "markdown",
   "metadata": {},
   "source": [
    "# Mriqc and Euler number assessment"
   ]
  },
  {
   "cell_type": "markdown",
   "metadata": {},
   "source": [
    "### Merge peformance sets"
   ]
  },
  {
   "cell_type": "code",
   "execution_count": null,
   "metadata": {},
   "outputs": [],
   "source": [
    "df_roc_euler =  pd.read_pickle(plottable_data_euler)\n",
    "df_roc_mriqc = pd.read_pickle(Path(plottable_data))\n",
    "df_all_performance = df_roc_euler.merge(df_roc_mriqc,how = 'inner', on = ['MASKID','run','manual_qc_type'],suffixes = ('_euler','_mriqc'),indicator=True)\n",
    "df_all_performance = df_all_performance.query('manual_qc_type == \"MPRAGE\"')\n",
    "\n",
    "df_all_performance['manual_classification'] = df_all_performance.thresholded_euler.apply(lambda x:{0.0:'good',1.0:'bad'}[x])\n",
    "df_all_performance.head()"
   ]
  },
  {
   "cell_type": "markdown",
   "metadata": {},
   "source": [
    "# Good and bad scans"
   ]
  },
  {
   "cell_type": "code",
   "execution_count": null,
   "metadata": {},
   "outputs": [],
   "source": [
    "df_bad = (df_all_performance.\n",
    " query('manual_classification == \"bad\"').\n",
    " sort_values(['prob_y_euler'],ascending = False))\n",
    "df_bad"
   ]
  },
  {
   "cell_type": "code",
   "execution_count": null,
   "metadata": {},
   "outputs": [],
   "source": [
    "df_good = (df_all_performance.\n",
    " query('manual_classification == \"good\"').\n",
    " sort_values(['prob_y_mriqc']).\n",
    "          head(10))\n",
    "df_good"
   ]
  },
  {
   "cell_type": "markdown",
   "metadata": {},
   "source": [
    "#### chosen as good scan:"
   ]
  },
  {
   "cell_type": "code",
   "execution_count": null,
   "metadata": {},
   "outputs": [],
   "source": [
    "df_all_performance.loc[(df_all_performance.MASKID == '1923') & (df_all_performance.run == 'run-001'),:]"
   ]
  },
  {
   "cell_type": "code",
   "execution_count": null,
   "metadata": {},
   "outputs": [],
   "source": [
    "df_all_performance.loc[(df_all_performance.MASKID == '1923') & (df_all_performance.run == 'run-001'),:]"
   ]
  },
  {
   "cell_type": "markdown",
   "metadata": {},
   "source": [
    "#### chosen as good scan:"
   ]
  },
  {
   "cell_type": "code",
   "execution_count": null,
   "metadata": {},
   "outputs": [],
   "source": [
    "df_all_performance.loc[(df_all_performance.MASKID == '2018') & (df_all_performance.run == 'run-001'),:]"
   ]
  },
  {
   "cell_type": "markdown",
   "metadata": {},
   "source": [
    "## Create snapshots dir"
   ]
  },
  {
   "cell_type": "code",
   "execution_count": null,
   "metadata": {},
   "outputs": [],
   "source": [
    "mriqc_output = project_dir.joinpath('derivatives/mriqc')"
   ]
  },
  {
   "cell_type": "code",
   "execution_count": null,
   "metadata": {},
   "outputs": [],
   "source": [
    "def make_symlink(snapshot_dir,scan_path,prefix = 'image'):\n",
    "    \n",
    "    from pathlib import Path\n",
    "    if not snapshot_dir.exists():\n",
    "        snapshot_dir.mkdir()\n",
    "    s_path = Path(scan_path).absolute()    \n",
    "    sym_path = prefix + '_'+ s_path.name\n",
    "    !cd {snapshot_dir};ln -s {s_path} {sym_path}\n",
    "    return snapshot_dir.joinpath(sym_path)\n",
    "    \n",
    "df_good_and_bad = pd.concat([df_good,df_bad],axis = 0)\n",
    "df_good_and_bad = df_good_and_bad.query('manual_qc_type ==\"MPRAGE\"')\n",
    "df_good_and_bad = df_good_and_bad.assign(num = range(1, 1 + len(df_good_and_bad)))\n",
    "qc_dir = output_folder.joinpath('good_bad_examplars_skullstripped')"
   ]
  },
  {
   "cell_type": "code",
   "execution_count": null,
   "metadata": {},
   "outputs": [],
   "source": [
    "df_good_and_bad['glob_pat'] = df_good_and_bad.apply(lambda row :'work/sub-{m}_{r}/**/*T1w_conformed_corrected_skullstrip.nii.gz'.format(m = row.MASKID, r = row.run),axis = 1)\n",
    "# pat = df_good_and_bad.loc[585,'glob_pat']\n",
    "# print(pat)\n",
    "# list(mriqc_output.glob(pat))\n",
    "df_good_and_bad['skullstripped_path'] = (df_good_and_bad.\n",
    "                                         apply(lambda row:\n",
    "                                               list(mriqc_output.glob(row.glob_pat))[0],\n",
    "                                               axis = 1)\n",
    "                                        )"
   ]
  },
  {
   "cell_type": "code",
   "execution_count": null,
   "metadata": {},
   "outputs": [],
   "source": [
    "qc_dir"
   ]
  },
  {
   "cell_type": "markdown",
   "metadata": {},
   "source": [
    "### sanity check:"
   ]
  },
  {
   "cell_type": "markdown",
   "metadata": {},
   "source": [
    "should all be ones:"
   ]
  },
  {
   "cell_type": "code",
   "execution_count": null,
   "metadata": {},
   "outputs": [],
   "source": [
    "df_good_and_bad.groupby(['MASKID','run']).count()"
   ]
  },
  {
   "cell_type": "code",
   "execution_count": null,
   "metadata": {},
   "outputs": [],
   "source": [
    "df_good_and_bad['sym_path'] = df_good_and_bad.apply(lambda row: make_symlink(qc_dir,row.skullstripped_path),axis = 1);"
   ]
  },
  {
   "cell_type": "code",
   "execution_count": null,
   "metadata": {},
   "outputs": [],
   "source": [
    "df_good_and_bad.sym_path.values[0].stem.split('.')[0]"
   ]
  },
  {
   "cell_type": "code",
   "execution_count": null,
   "metadata": {},
   "outputs": [],
   "source": [
    "qc_dir"
   ]
  },
  {
   "cell_type": "code",
   "execution_count": null,
   "metadata": {},
   "outputs": [],
   "source": [
    "\n",
    "def make_montage(ulay=None,olay=None,image_dir=None,output_dir=None,cbar='FreeSurfer_Seg_i255',opacity='4',montx='3',monty='1',blowup='1',concatenate=False,prefix = None):\n",
    "    \n",
    "    ulay = Path(ulay)\n",
    "    if not output_dir:\n",
    "        output_dir = ulay.parent\n",
    "        \n",
    "    host = !hostname\n",
    "    if 'nih' in host[0]:\n",
    "        cmd = 'module load afni; '\n",
    "    else:\n",
    "        cmd = \"\"\n",
    "\n",
    "        \n",
    "    if not prefix:\n",
    "        prefix = 'image'\n",
    "\n",
    "    prefix += '_' + ulay.stem.split('.')[0]\n",
    "\n",
    "    \n",
    "    cmd += 'cd ' + ulay.parent.absolute().as_posix() + \\\n",
    "    '; \\@chauffeur_afni' + \\\n",
    "    ' -ulay ' + ulay.as_posix()\n",
    "    if olay:\n",
    "        cmd += olay\n",
    "\n",
    "    cmd += ' -prefix ' + prefix + \\\n",
    "    ' -cbar ' + cbar + \\\n",
    "    ' -opacity ' + opacity + \\\n",
    "    ' -do_clean' + \\\n",
    "    ' -montx ' + montx + \\\n",
    "    ' -monty ' + monty \n",
    "    \n",
    "    if concatenate:\n",
    "        cmd += ';echo Files for concatenation: ' + \\\n",
    "        ' $(ls {p}*png);'.format(p=prefix) + \\\n",
    "        'convert +append {p}*png {p}.jpg;'.format(p = prefix) + \\\n",
    "        'rm {p}.[a-z][a-z][a-z].png'.format(p = prefix)\n",
    "        \n",
    "    return cmd\n",
    "\n",
    "\n",
    "for x,row in df_good_and_bad.iterrows():\n",
    "    ulay = row.sym_path\n",
    "    !{make_montage(ulay = ulay, montx ='1', prefix = row.manual_classification)}\n",
    "    \n",
    "\n",
    "# !ls {ulay.parent}\n"
   ]
  },
  {
   "cell_type": "code",
   "execution_count": null,
   "metadata": {},
   "outputs": [],
   "source": [
    "snapshots_dir  =qc_dir.joinpath('snapshots')\n",
    "if not snapshots_dir.exists():\n",
    "    snapshots_dir.mkdir()\n",
    "!mv {qc_dir}/*png {snapshots_dir.absolute()}"
   ]
  },
  {
   "cell_type": "markdown",
   "metadata": {},
   "source": [
    "### write html"
   ]
  },
  {
   "cell_type": "code",
   "execution_count": null,
   "metadata": {},
   "outputs": [],
   "source": [
    "output_html = qc_dir.joinpath('index.html')\n",
    "summary_pics = list(qc_dir.glob('**/*png'))\n",
    "\n",
    "summary_pics"
   ]
  },
  {
   "cell_type": "code",
   "execution_count": null,
   "metadata": {},
   "outputs": [],
   "source": [
    "output_html.write_text(\"\"\"\n",
    "<HTML><TITLE>slicedir</TITLE><BODY BGCOLOR=\"#aaaaff\">\n",
    "\"\"\")\n",
    "with output_html.open(mode='a') as f:\n",
    "    for pic in summary_pics:\n",
    "        f.write(\"\"\"\n",
    "            <a href=\"{pic}\"><img src=\"{pic}\" WIDTH=1000 > {pic_name}</a><br>\n",
    "            \"\"\".format(pic='snapshots/' + pic.name ,pic_name =  pic.stem))\n",
    "            \n",
    "    f.write(\"\"\"\n",
    "</BODY></HTML>\n",
    "\"\"\")"
   ]
  },
  {
   "cell_type": "code",
   "execution_count": null,
   "metadata": {},
   "outputs": [],
   "source": [
    "<HTML><TITLE>slicedir</TITLE><BODY BGCOLOR=\"#aaaaff\">\n",
    "\n",
    "            <a href=\"snapshots/sub-102_ses-20120117.long.sub-102_template.jpg\"><img src=\"snapshots/sub-102_ses-20120117.long.sub-102_template.jpg\" WIDTH=1000 > sub-102_ses-20120117.long.sub-102_template</a><br>\n",
    "\n",
    "            <a href=\"snapshots/sub-102_ses-20120120.long.sub-102_template.jpg\"><img src=\"snapshots/sub-102_ses-20120120.long.sub-102_template.jpg\" WIDTH=1000 > sub-102_ses-20120120.long.sub-102_template</a><br>"
   ]
  },
  {
   "cell_type": "code",
   "execution_count": null,
   "metadata": {},
   "outputs": [],
   "source": [
    "print(output_html.read_text())"
   ]
  },
  {
   "cell_type": "code",
   "execution_count": null,
   "metadata": {},
   "outputs": [],
   "source": []
  },
  {
   "cell_type": "code",
   "execution_count": null,
   "metadata": {},
   "outputs": [],
   "source": []
  },
  {
   "cell_type": "code",
   "execution_count": null,
   "metadata": {},
   "outputs": [],
   "source": []
  },
  {
   "cell_type": "code",
   "execution_count": null,
   "metadata": {},
   "outputs": [],
   "source": []
  },
  {
   "cell_type": "code",
   "execution_count": null,
   "metadata": {},
   "outputs": [],
   "source": []
  },
  {
   "cell_type": "code",
   "execution_count": null,
   "metadata": {},
   "outputs": [],
   "source": []
  },
  {
   "cell_type": "code",
   "execution_count": null,
   "metadata": {},
   "outputs": [],
   "source": []
  },
  {
   "cell_type": "code",
   "execution_count": null,
   "metadata": {},
   "outputs": [],
   "source": []
  },
  {
   "cell_type": "markdown",
   "metadata": {},
   "source": [
    "# Why the unpredicable bad scans?"
   ]
  },
  {
   "cell_type": "markdown",
   "metadata": {},
   "source": [
    "Commands below should be run from the mriqc reports directory preferably locally"
   ]
  },
  {
   "cell_type": "markdown",
   "metadata": {},
   "source": [
    "### possible human false positives"
   ]
  },
  {
   "cell_type": "code",
   "execution_count": null,
   "metadata": {},
   "outputs": [],
   "source": [
    "df_fps = (df_euler_2.\n",
    " query('thresholded == 1.0').\n",
    " sort_values(['manual_qc_type','prob_y']).\n",
    " groupby('manual_qc_type').\n",
    " head())\n",
    "df_fps"
   ]
  },
  {
   "cell_type": "code",
   "execution_count": null,
   "metadata": {},
   "outputs": [],
   "source": [
    "'open sub-{' + ','.join(df_fps.MASKID) + '}*MP* # possible false positives'"
   ]
  },
  {
   "cell_type": "markdown",
   "metadata": {},
   "source": [
    "+ 1024 has an odd distortion inside the cortex.\n",
    "+ 0818 has ringing in the cortex"
   ]
  },
  {
   "cell_type": "markdown",
   "metadata": {},
   "source": [
    "###  possible human false negatives"
   ]
  },
  {
   "cell_type": "code",
   "execution_count": null,
   "metadata": {},
   "outputs": [],
   "source": [
    "df_fns = (df_euler_2.\n",
    " query('thresholded == 0.0').\n",
    " sort_values(['manual_qc_type','prob_y'],ascending = False).\n",
    " groupby('manual_qc_type').\n",
    " head())\n",
    "df_fns"
   ]
  },
  {
   "cell_type": "code",
   "execution_count": null,
   "metadata": {},
   "outputs": [],
   "source": [
    "'open sub-{' + ','.join(df_fns.MASKID) + '}*MP* # possible false negatives'"
   ]
  }
 ],
 "metadata": {
  "language_info": {
   "name": "python",
   "pygments_lexer": "ipython3"
  }
 },
 "nbformat": 4,
 "nbformat_minor": 2
}
