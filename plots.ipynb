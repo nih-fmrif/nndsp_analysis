{
 "cells": [
  {
   "cell_type": "code",
   "execution_count": null,
   "metadata": {},
   "outputs": [],
   "source": []
  },
  {
   "cell_type": "markdown",
   "metadata": {},
   "source": [
    "# Dependencies"
   ]
  },
  {
   "cell_type": "code",
   "execution_count": null,
   "metadata": {},
   "outputs": [],
   "source": [
    "# For up-to-date mriqc performance:\n",
    "print('running mriqc_performance.ipynb from plots.ipynb: ')\n",
    "%run '/Users/rodgersleejg/data/hpc/NNDSP/anal/mriqc_files/analysis_notebooks/mriqc_performance.ipynb'\n"
   ]
  },
  {
   "cell_type": "code",
   "execution_count": null,
   "metadata": {},
   "outputs": [],
   "source": [
    "# For up to date euler:\n",
    "%run '/Users/rodgersleejg/data/hpc/NNDSP/anal/mriqc_files/analysis_notebooks/euler.ipynb'"
   ]
  },
  {
   "cell_type": "code",
   "execution_count": null,
   "metadata": {},
   "outputs": [],
   "source": [
    "from pathlib import Path\n",
    "import pandas as pd\n",
    "import numpy as np\n",
    "import subprocess\n",
    "from datetime import date\n",
    "import re\n",
    "pd.set_option('display.max_rows', 500)\n",
    "pd.set_option('display.max_columns', 500)\n",
    "pd.set_option('max_colwidth',500)\n",
    "%matplotlib inline\n",
    "import seaborn as sns\n",
    "import matplotlib.pyplot as plt\n",
    "from importlib import reload\n",
    "\n",
    "\n",
    "\n",
    "## EDIT THESE VARIABLES\n",
    "analysis_version = \"2017_10_19\"\n",
    "project_dir = Path('/Users/rodgersleejg/data/hpc/NNDSP') # needs to be pathlib.Path object\n",
    "\n",
    "bids_dir = project_dir.joinpath('bids_2017_07_14')\n",
    "\n",
    "# conf_script = mriqc_dir.joinpath('conf' + analysis_version + '.sh')\n",
    "\n",
    "mriqc_dir  = project_dir.joinpath('anal/mriqc_files/other_files')\n",
    "if not mriqc_dir.exists():\n",
    "    mriqc_dir.mkdir()\n",
    "output_folder =  project_dir / 'derivatives' / 'mriqc'\n",
    "if not output_folder.exists():\n",
    "    output_folder.mkdir()\n",
    "classifier_output =  output_folder.joinpath('classifier')\n",
    "if not classifier_output.exists():\n",
    "    classifier_output.mkdir()\n",
    "base_work_dir = output_folder.joinpath('work')\n",
    "if not base_work_dir.exists():\n",
    "    base_work_dir.mkdir()\n",
    "log_dir = mriqc_dir.joinpath('swarm_output_' +  analysis_version)\n",
    "if not log_dir.exists():\n",
    "    log_dir.mkdir()\n",
    "manual_qc = output_folder.joinpath('manual_qc_round_2.tsv')\n",
    "# swarm_path = mriqc_dir.joinpath('mriqc_' + analysis_version + '.cmd')\n",
    "\n",
    "\n",
    "df_qc_full_pkl = Path('anal/mriqc_files/other_files/qc_pickle_for_v2_exploration.pklz')\n",
    "mriqc_with_predictions = Path('derivatives/mriqc/with_mriqc_predictions.csv')\n",
    "plottable_data = Path('derivatives/mriqc/classifer_plot_data.pklz')\n",
    "plottable_data_euler = Path('derivatives/mriqc/classifer_plot_data_euler.pklz')\n",
    "\n",
    "\n",
    "%pwd\n",
    "%cd {project_dir}\n",
    "%pwd"
   ]
  },
  {
   "cell_type": "code",
   "execution_count": null,
   "metadata": {},
   "outputs": [],
   "source": []
  },
  {
   "cell_type": "markdown",
   "metadata": {},
   "source": [
    "# Mriqc"
   ]
  },
  {
   "cell_type": "markdown",
   "metadata": {},
   "source": [
    "### Plot the ROC curves"
   ]
  },
  {
   "cell_type": "markdown",
   "metadata": {},
   "source": [
    "The number of scans classified as bad for each manual metric:"
   ]
  },
  {
   "cell_type": "code",
   "execution_count": null,
   "metadata": {},
   "outputs": [],
   "source": []
  },
  {
   "cell_type": "code",
   "execution_count": null,
   "metadata": {},
   "outputs": [],
   "source": [
    "# Can load data using\n",
    "df_roc_mriqc = pd.read_pickle(plottable_data)\n",
    "df_roc_euler = pd.read_pickle(plottable_data_euler)"
   ]
  },
  {
   "cell_type": "markdown",
   "metadata": {},
   "source": [
    "## Scans that didn't make it through Freesurfer within 60 hours"
   ]
  },
  {
   "cell_type": "markdown",
   "metadata": {},
   "source": [
    "+ 0150 r 2\n",
    "+ 0414 r 1\n",
    "+ 0936 r1\n",
    "+ 1998 r 2"
   ]
  },
  {
   "cell_type": "code",
   "execution_count": null,
   "metadata": {},
   "outputs": [],
   "source": [
    " df_roc_mriqc.merge(df_roc_euler,on = ['MASKID','run','manual_qc_type'],how = 'outer',suffixes = [\"_mriqc\",\"_euler\"],indicator = True).query('_merge.str.contains(\"only\")')"
   ]
  },
  {
   "cell_type": "code",
   "execution_count": null,
   "metadata": {},
   "outputs": [],
   "source": [
    "print(len(df_roc_euler.query('manual_qc_type == \"MPRAGE\"')))\n",
    "df_roc_euler.head()\n",
    "df_roc_qc = df_roc_mriqc.merge(df_roc_euler,on = ['MASKID','run','manual_qc_type'],how = 'outer',suffixes = [\"_mriqc\",\"_euler\"],indicator = True)\n",
    "print(len(df_roc_qc.query('manual_qc_type == \"MPRAGE\"')))"
   ]
  },
  {
   "cell_type": "code",
   "execution_count": null,
   "metadata": {},
   "outputs": [],
   "source": [
    "df_roc_qc.head()"
   ]
  },
  {
   "cell_type": "code",
   "execution_count": null,
   "metadata": {},
   "outputs": [],
   "source": [
    "qc_ver = '_mriqc'\n",
    "df_roc_qc.groupby('manual_qc_type').sum()['thresholded' + qc_ver]"
   ]
  },
  {
   "cell_type": "code",
   "execution_count": null,
   "metadata": {},
   "outputs": [],
   "source": [
    "from sklearn.metrics import roc_auc_score\n",
    "for m in df_roc_qc.manual_qc_type.unique():\n",
    "    df = df_roc_qc.query('manual_qc_type == @m')\n",
    "    area_under_curve = roc_auc_score(df['thresholded' + qc_ver],df['prob_y' + qc_ver],average = None)\n",
    "    print(m, ': ',area_under_curve)"
   ]
  },
  {
   "cell_type": "code",
   "execution_count": null,
   "metadata": {},
   "outputs": [],
   "source": [
    "def wrap_plot(x,y, **kwargs):\n",
    "    return plt.plot(x,y,**kwargs)\n",
    "\n",
    "def plot_with_line(x,y, **kwargs):\n",
    "    return plt.plot(x,y,'-',**kwargs)\n",
    "\n",
    "def plot_with_marker(x,y, **kwargs):\n",
    "    return plt.plot(x,y,'o',**kwargs)"
   ]
  },
  {
   "cell_type": "markdown",
   "metadata": {},
   "source": [
    "### ROC curve (mriqc prediction manual)"
   ]
  },
  {
   "cell_type": "code",
   "execution_count": null,
   "metadata": {},
   "outputs": [],
   "source": [
    "qc_ver = '_mriqc'\n",
    "df = df_roc_qc.query(\"manual_qc_type == 'MPRAGE'\")\n",
    "good_x = df.loc[(df.MASKID == '1923') & (df.run == 'run-001'),'fpr' + qc_ver].values[0]\n",
    "good_y = df.loc[(df.MASKID == '1923') & (df.run == 'run-001'),'tpr' + qc_ver].values[0]\n",
    "bad_x = df.loc[(df.MASKID == '1700') & (df.run == 'run-001'),'fpr' + qc_ver].values[0]\n",
    "bad_y = df.loc[(df.MASKID == '1700') & (df.run == 'run-001'),'tpr' + qc_ver].values[0]\n",
    "print(good_x,good_y,bad_x,bad_y)\n",
    "\n",
    "with sns.plotting_context('notebook',font_scale=1.5):\n",
    "    # Initialize a grid of plots with an Axes for each walk\n",
    "    grid = sns.FacetGrid(df.loc[df.manual_qc_type == \"MPRAGE\",:].sort_values('fpr' + qc_ver), col=\"manual_qc_type\",size = 5,margin_titles=False,)\n",
    "    grid.map(wrap_plot,x=  [0,1] , y=  [0,1], linestyle =\"--\")  # random predictions curve\n",
    "    \n",
    "\n",
    "    # Draw a line plot to show the trajectory of each random walk\n",
    "    grid.map(plot_with_line, \"fpr\" + qc_ver, \"tpr\" + qc_ver, ms=5)\n",
    "    grid.map(plot_with_marker,x=  [good_x] , y=  [good_y],marker = \"o\", markerfacecolor = 'g',markersize = 15)  # random predictions curve\n",
    "    grid.map(plot_with_marker,x=  [bad_x] , y=  [bad_y],marker = \"o\", markerfacecolor = 'r',markersize = 15)  # random predictions curve\n",
    "\n",
    "\n",
    "    #grid.map(plt.plot, \"fpr\", \"tpr\", marker=\"o\", ms=1)\n",
    "    grid.set_axis_labels(\"False Positive Rate\", \"True Positive Rate\");\n",
    "\n",
    "    grid.set_titles('mriqc software',size = 30)\n",
    "\n",
    "grid.savefig('/Users/rodgersleejg/Documents/nih/ohbm_2018_abstract/mriqc_roc.png',figsize=(7, 7))\n",
    "\n",
    "# grid.fig.tight_layout(w_pad=1)"
   ]
  },
  {
   "cell_type": "markdown",
   "metadata": {},
   "source": [
    "### Number of scans to assess vs Number of bad scans detected"
   ]
  },
  {
   "cell_type": "code",
   "execution_count": null,
   "metadata": {},
   "outputs": [],
   "source": [
    "# sns.set(style=\"ticks\")\n",
    "# # Initialize a grid of plots with an Axes for each walk\n",
    "# grid = sns.FacetGrid(df_roc.sort_values('tp'), col=\"manual_qc_type\",size = 5)\n",
    "# grid.map(wrap_plot,x=  [0,1] , y=  [0,1], linestyle =\"--\")  # random predictions curve\n",
    "\n",
    "# # Draw a line plot to show the trajectory of each random walk\n",
    "# grid.map(plot_with_marker, \"tp\", \"positive\", ms=5)\n",
    "# #grid.map(plt.plot, \"fpr\", \"tpr\", marker=\"o\", ms=1)\n",
    "# grid.set_axis_labels(\"Bad scans detected\", \"Number of scans to screen\");\n",
    "\n",
    "# # Adjust the arrangement of the plots\n",
    "# grid.fig.tight_layout(w_pad=1)"
   ]
  },
  {
   "cell_type": "markdown",
   "metadata": {},
   "source": [
    "# Euler"
   ]
  },
  {
   "cell_type": "markdown",
   "metadata": {},
   "source": [
    "### Plot the ROC curves"
   ]
  },
  {
   "cell_type": "markdown",
   "metadata": {},
   "source": [
    "The number of scans classified as bad for each manual metric:"
   ]
  },
  {
   "cell_type": "code",
   "execution_count": null,
   "metadata": {},
   "outputs": [],
   "source": [
    "qc_ver = '_euler'\n",
    "df_roc_qc.groupby('manual_qc_type').sum()['thresholded' + qc_ver]"
   ]
  },
  {
   "cell_type": "code",
   "execution_count": null,
   "metadata": {},
   "outputs": [],
   "source": [
    "from sklearn.metrics import roc_auc_score\n",
    "\n",
    "for m in manual_metrics:\n",
    "    df = df_roc_qc.query('(manual_qc_type == @m) & (prob_y_euler.notnull())')\n",
    "    area_under_curve = roc_auc_score(df['thresholded' + qc_ver],df['prob_y' + qc_ver],average = None)\n",
    "    print(m, ': ',area_under_curve)"
   ]
  },
  {
   "cell_type": "code",
   "execution_count": null,
   "metadata": {},
   "outputs": [],
   "source": [
    "def wrap_plot(x,y, **kwargs):\n",
    "    return plt.plot(x,y,**kwargs)\n",
    "\n",
    "def plot_with_line(x,y, **kwargs):\n",
    "    return plt.plot(x,y,'-',**kwargs)\n",
    "\n",
    "def plot_with_marker(x,y, **kwargs):\n",
    "    return plt.plot(x,y,'o',**kwargs)"
   ]
  },
  {
   "cell_type": "markdown",
   "metadata": {},
   "source": [
    "# ROC curve"
   ]
  },
  {
   "cell_type": "code",
   "execution_count": null,
   "metadata": {},
   "outputs": [],
   "source": [
    "from matplotlib import pyplot as plt"
   ]
  },
  {
   "cell_type": "code",
   "execution_count": null,
   "metadata": {},
   "outputs": [],
   "source": [
    "qc_ver = '_euler'\n",
    "\n",
    "df = df_roc_qc.query(\"(manual_qc_type == 'MPRAGE') & (prob_y_euler.notnull())\")\n",
    "\n",
    "good_x = df.loc[(df.MASKID == '1923') & (df.run == 'run-001'),'fpr' + qc_ver].values[0]\n",
    "good_y = df.loc[(df.MASKID == '1923') & (df.run == 'run-001'),'tpr' + qc_ver].values[0]\n",
    "bad_x = df.loc[(df.MASKID == '1700') & (df.run == 'run-001'),'fpr' + qc_ver].values[0]\n",
    "bad_y = df.loc[(df.MASKID == '1700') & (df.run == 'run-001'),'tpr' + qc_ver].values[0]\n",
    "print(good_x,good_y,bad_x,bad_y)\n",
    "\n",
    "with sns.plotting_context('notebook',font_scale=1.5):\n",
    "    # Initialize a grid of plots with an Axes for each walk\n",
    "    grid = sns.FacetGrid(df.loc[df.manual_qc_type == \"MPRAGE\",:].sort_values('fpr' + qc_ver), col=\"manual_qc_type\",size = 5,margin_titles=False,)\n",
    "    grid.map(wrap_plot,x=  [0,1] , y=  [0,1], linestyle =\"--\")  # random predictions curve\n",
    "    \n",
    "\n",
    "    # Draw a line plot to show the trajectory of each random walk\n",
    "    grid.map(plot_with_line, \"fpr\" + qc_ver, \"tpr\" + qc_ver, ms=5)\n",
    "    grid.map(plot_with_marker,x=  [good_x] , y=  [good_y],marker = \"o\", markerfacecolor = 'g',markersize = 15)  # random predictions curve\n",
    "    grid.map(plot_with_marker,x=  [bad_x] , y=  [bad_y],marker = \"o\", markerfacecolor = 'r',markersize = 15)  # random predictions curve\n",
    "\n",
    "\n",
    "    #grid.map(plt.plot, \"fpr\", \"tpr\", marker=\"o\", ms=1)\n",
    "    grid.set_axis_labels(\"False Positive Rate\", \"True Positive Rate\");\n",
    "\n",
    "    grid.set_titles('euler number',size = 30)\n",
    "\n",
    "grid.savefig('/Users/rodgersleejg/Documents/nih/ohbm_2018_abstract/euler_roc.png',figsize=(4,1))\n",
    "\n"
   ]
  },
  {
   "cell_type": "code",
   "execution_count": null,
   "metadata": {},
   "outputs": [],
   "source": [
    "# sns.set(style=\"ticks\")\n",
    "# # Initialize a grid of plots with an Axes for each walk\n",
    "# grid = sns.FacetGrid(df_roc_euler.sort_values('tp'), col=\"manual_qc_type\",size = 5)\n",
    "# grid.map(wrap_plot,x=  [0,1] , y=  [0,1], linestyle =\"--\")  # random predictions curve\n",
    "\n",
    "# # Draw a line plot to show the trajectory of each random walk\n",
    "# grid.map(plot_with_marker, \"tp\", \"positive\", ms=5)\n",
    "# #grid.map(plt.plot, \"fpr\", \"tpr\", marker=\"o\", ms=1)\n",
    "# grid.set_axis_labels(\"Bad scans detected\", \"Number of scans to screen\");\n",
    "\n",
    "# # Adjust the arrangement of the plots\n",
    "# grid.fig.tight_layout(w_pad=1)"
   ]
  },
  {
   "cell_type": "markdown",
   "metadata": {},
   "source": []
  }
 ],
 "metadata": {
  "language_info": {
   "name": "python",
   "pygments_lexer": "ipython3"
  }
 },
 "nbformat": 4,
 "nbformat_minor": 2
}
